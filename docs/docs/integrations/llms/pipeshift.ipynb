{
 "cells": [
  {
   "cell_type": "raw",
   "id": "33d50d47",
   "metadata": {
    "vscode": {
     "languageId": "raw"
    }
   },
   "source": [
    "---\n",
    "sidebar_label: Pipeshift\n",
    "---"
   ]
  },
  {
   "cell_type": "markdown",
   "id": "9597802c",
   "metadata": {},
   "source": [
    "# Pipeshift\n",
    "\n",
    "This notebook will help you get started with Pipeshift completion models (LLMs) using LangChain. For detailed documentation on `Pipeshift` LLM features and configuration options, please refer to the [API reference](https://api.python.langchain.com/en/latest/llms/langchain_community.llms.Pipeshift.html).\n",
    "\n",
    "This example goes over how to use LangChain to interact with Pipeshift AI models.\n",
    "\n",
    "\n",
    "## Setup\n",
    "\n",
    "To access Pipeshift models you'll need to create a Pipeshift account, get an API key, and install the `langchain-community` package.\n",
    "\n",
    "\n",
    "### Credentials\n",
    "\n",
    "Head on to [pipeshift.com](https://pipeshift.com) to sign up to Pipeshift and generate an API key. Once you've done this set the PIPESHIFT_API_KEY environment variable:"
   ]
  },
  {
   "cell_type": "code",
   "execution_count": 1,
   "id": "bc51e756",
   "metadata": {},
   "outputs": [],
   "source": [
    "import getpass\n",
    "import os\n",
    "\n",
    "if not os.getenv(\"PIPESHIFT_API_KEY\"):\n",
    "    os.environ[\"PIPESHIFT_API_KEY\"] = getpass.getpass(\"Enter your Pipeshift API key: \")"
   ]
  },
  {
   "cell_type": "markdown",
   "id": "809c6577",
   "metadata": {},
   "source": [
    "### Installation\n",
    "\n",
    "The LangChain Pipeshift integration lives in the `langchain-community` package:"
   ]
  },
  {
   "cell_type": "code",
   "execution_count": null,
   "id": "59c710c4",
   "metadata": {},
   "outputs": [],
   "source": [
    "%pip install -qU langchain-community"
   ]
  },
  {
   "cell_type": "markdown",
   "id": "0a760037",
   "metadata": {},
   "source": [
    "## Instantiation\n",
    "\n",
    "Now we can instantiate our model object and generate chat completions:"
   ]
  },
  {
   "cell_type": "code",
   "execution_count": null,
   "id": "a0562a13",
   "metadata": {},
   "outputs": [],
   "source": [
    "from langchain_community.llms import Pipeshift\n",
    "\n",
    "llm = Pipeshift(\n",
    "    # pipeshift_api_key=\"<your_api_key>\"\n",
    "    model=\"meta-llama/Meta-Llama-3.1-8B-Instruct\",\n",
    "    max_tokens=512,  # default set to 512\n",
    "    # other params...\n",
    ")"
   ]
  },
  {
   "cell_type": "markdown",
   "id": "0ee90032",
   "metadata": {},
   "source": [
    "## Invocation"
   ]
  },
  {
   "cell_type": "code",
   "execution_count": 4,
   "id": "035dea0f",
   "metadata": {
    "tags": []
   },
   "outputs": [],
   "source": [
    "input_text = \"how far is jupiter from earth?\"\n",
    "\n",
    "output = llm.invoke(input_text)\n",
    "print(output)"
   ]
  },
  {
   "cell_type": "markdown",
   "id": "add38532",
   "metadata": {},
   "source": [
    "## Chaining\n",
    "\n",
    "We can [chain](/docs/how_to/sequence/) our completion model with a prompt template like so:"
   ]
  },
  {
   "cell_type": "code",
   "execution_count": null,
   "id": "078e9db2",
   "metadata": {},
   "outputs": [],
   "source": [
    "from langchain_core.prompts import PromptTemplate\n",
    "\n",
    "prompt = PromptTemplate(\"How to say {input} in {output_language}:\\n\")\n",
    "\n",
    "chain = prompt | llm\n",
    "chain.invoke(\n",
    "    {\n",
    "        \"output_language\": \"German\",\n",
    "        \"input\": \"I love programming.\",\n",
    "    }\n",
    ")"
   ]
  },
  {
   "cell_type": "markdown",
   "id": "e99eef30",
   "metadata": {},
   "source": [
    "<!-- ## TODO: Any functionality specific to this model provider\n",
    "\n",
    "E.g. creating/using finetuned models via this provider. Delete if not relevant -->"
   ]
  },
  {
   "cell_type": "markdown",
   "id": "e9bdfcef",
   "metadata": {},
   "source": [
    "## API reference\n",
    "\n",
    "For detailed documentation of all `Pipeshift` LLM features and configurations head to the API reference: https://api.python.langchain.com/en/latest/llms/langchain_community.llms.Pipeshift.html"
   ]
  }
 ],
 "metadata": {
  "kernelspec": {
   "display_name": "Python 3.11.1 64-bit",
   "language": "python",
   "name": "python3"
  },
  "language_info": {
   "codemirror_mode": {
    "name": "ipython",
    "version": 3
   },
   "file_extension": ".py",
   "mimetype": "text/x-python",
   "name": "python",
   "nbconvert_exporter": "python",
   "pygments_lexer": "ipython3",
   "version": "3.9.6"
  },
  "vscode": {
   "interpreter": {
    "hash": "e971737741ff4ec9aff7dc6155a1060a59a8a6d52c757dbbe66bf8ee389494b1"
   }
  }
 },
 "nbformat": 4,
 "nbformat_minor": 5
}
