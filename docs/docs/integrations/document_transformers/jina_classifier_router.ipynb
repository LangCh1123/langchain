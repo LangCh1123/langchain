{
 "cells": [
  {
   "cell_type": "markdown",
   "id": "e2c0685021a44685",
   "metadata": {},
   "source": "# Jina Classifier Router"
  },
  {
   "cell_type": "markdown",
   "id": "3638fef0dcbc1efd",
   "metadata": {},
   "source": "This notebook shows how to use JinaClassifierRouter for routing the different chains."
  },
  {
   "cell_type": "code",
   "execution_count": null,
   "id": "8d50a7a315dcd280",
   "metadata": {
    "jupyter": {
     "is_executing": true
    }
   },
   "outputs": [],
   "source": [
    "%pip install -qU langchain langchain-community"
   ]
  },
  {
   "cell_type": "code",
   "execution_count": null,
   "id": "a77280122a602fc6",
   "metadata": {},
   "outputs": [],
   "source": "from langchain_community.chains.router.jinaai import JinaClassifierRouterChain"
  },
  {
   "cell_type": "code",
   "execution_count": null,
   "id": "6939d0c26f15f984",
   "metadata": {},
   "outputs": [],
   "source": [
    "questions = [\n",
    "    # Physics Questions\n",
    "    \"How do potential energy and kinetic energy relate to the total mechanical energy of an object?\",\n",
    "    \"What is the principle of conservation of energy, and how does it apply to a roller coaster ride?\",\n",
    "    \"How do you calculate the work done on an object when a force is applied over a distance?\",\n",
    "    \"What are the differences between transverse and longitudinal waves, and what are some examples of each?\",\n",
    "    \"How does the Doppler effect explain the change in pitch of a sound as its source moves toward or away from you?\",\n",
    "    # Math Questions\n",
    "    \"How do you find the slope of a line given two points on the line?\",\n",
    "    \"What is the Pythagorean Theorem, and how is it used to find the length of the sides of a right triangle?\",\n",
    "    \"What is the difference between permutations and combinations, and when would you use each?\",\n",
    "    \"How do you calculate the area and circumference of a circle, and what are the key formulas?\",\n",
    "    \"What are the properties of similar triangles, and how can you use them to solve problems involving proportions?\",\n",
    "]\n",
    "chain = JinaClassifierRouterChain(\n",
    "    model_name=\"jina-embeddings-v3\",\n",
    "    labels=[\"physics\", \"match\"],\n",
    ")\n",
    "for q in questions:\n",
    "    result = chain.invoke(q)\n",
    "    print(result[\"destination\"])"
   ]
  },
  {
   "cell_type": "markdown",
   "id": "dfae6e750f0639f8",
   "metadata": {},
   "source": [
    "As in the `RouterChain`, the output are stored in the `destination` key.\n",
    "\n",
    "```bash\n",
    "physics\n",
    "physics\n",
    "physics\n",
    "physics\n",
    "physics\n",
    "math\n",
    "math\n",
    "math\n",
    "math\n",
    "math\n",
    "```"
   ]
  }
 ],
 "metadata": {
  "kernelspec": {
   "display_name": "Python 3",
   "language": "python",
   "name": "python3"
  },
  "language_info": {
   "codemirror_mode": {
    "name": "ipython",
    "version": 2
   },
   "file_extension": ".py",
   "mimetype": "text/x-python",
   "name": "python",
   "nbconvert_exporter": "python",
   "pygments_lexer": "ipython2",
   "version": "2.7.6"
  }
 },
 "nbformat": 4,
 "nbformat_minor": 5
}
