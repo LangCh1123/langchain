{
 "cells": [
  {
   "cell_type": "markdown",
   "metadata": {},
   "source": [
    "# Oracle Graph\n",
    "\n",
    "Oracle Graph is a feature of the graph database developed by Oracle. \n",
    "It is integrated as a component of Oracle Database. The feature of Oracle Graph is that it stores graph data as relational data. And graphs are created from them. \n",
    "The data elements in Oracle Graph are Vertices and the Relations that connect them, each with Labels and properties."
   ]
  },
  {
   "cell_type": "markdown",
   "metadata": {},
   "source": [
    "\n",
    "This notebook explains the basic method for constructing a knowledge graph from unstructured text using an Large Language Model (LLM). \n",
    "Additionally, it also introduces how to query the graph."
   ]
  },
  {
   "cell_type": "markdown",
   "metadata": {},
   "source": [
    "### Install and Setup\n",
    "\n",
    "To use this integration, you need to install langchain-community by running `pip install -qU langchain-community`.\n",
    "\n",
    "To use Oracle Graph with LangChain, install the Oracle Python client driver and the Oracle Property Graph driver as well."
   ]
  },
  {
   "cell_type": "code",
   "execution_count": null,
   "metadata": {},
   "outputs": [],
   "source": [
    "# pip install oracledb\n",
    "# pip install opg4py"
   ]
  },
  {
   "cell_type": "markdown",
   "metadata": {},
   "source": [
    "This is a sample code that demonstrates how to connect to Oracle database"
   ]
  },
  {
   "cell_type": "code",
   "execution_count": null,
   "metadata": {},
   "outputs": [],
   "source": [
    "import oracledb\n",
    "username = \"username\"\n",
    "password = \"password\"\n",
    "dsn = \"dsn\"\n",
    "\n",
    "try:\n",
    "    connection = oracledb.connect(user=username, password=password, dsn=dsn)\n",
    "    print(\"Connection successful!\")\n",
    "except Exception as e:\n",
    "    print(\"Connection failed!\")"
   ]
  },
  {
   "cell_type": "markdown",
   "metadata": {},
   "source": [
    "Next, we will define Oracle Database connection. Follow these steps to set up Oracle Graph."
   ]
  },
  {
   "cell_type": "code",
   "execution_count": null,
   "metadata": {},
   "outputs": [],
   "source": [
    "from langchain_community.graphs.oracle_graph import OracleGraph\n",
    "\n",
    "jdbc_url = \"jdbc_url\"\n",
    "oraclegraph = OracleGraph(url=jdbc_url, username=username, password=password)\n",
    "oraclegraph.set_connection(client=connection)"
   ]
  },
  {
   "cell_type": "markdown",
   "metadata": {},
   "source": [
    "We default to OpenAI models in this guide. \n",
    "We define ChatOpenAI as the LLM."
   ]
  },
  {
   "cell_type": "code",
   "execution_count": null,
   "metadata": {},
   "outputs": [],
   "source": [
    "from langchain_openai import ChatOpenAI\n",
    "\n",
    "llm = ChatOpenAI(api_key=OPENAI_API_KEY, model=\"gpt-4o\")"
   ]
  },
  {
   "cell_type": "markdown",
   "metadata": {},
   "source": [
    "### LLM Graph Transformer\n",
    "Now we use `LLMGraphTransformer` to extract graph data from the text.\n",
    "We can extract categorize entities and relationships from text using LLM."
   ]
  },
  {
   "cell_type": "code",
   "execution_count": null,
   "metadata": {},
   "outputs": [],
   "source": [
    "from langchain_experimental.graph_transformers import LLMGraphTransformer\n",
    "\n",
    "llm_transformer = LLMGraphTransformer(\n",
    "    llm=llm,\n",
    "    allowed_relationships=[\"friend\", \"live_in\", \"grandchild\"],\n",
    "    node_properties=[\"person_info\"]\n",
    "    )"
   ]
  },
  {
   "cell_type": "code",
   "execution_count": null,
   "metadata": {},
   "outputs": [],
   "source": [
    "from langchain_core.documents import Document\n",
    "\n",
    "text = \"\"\"\n",
    "Marie Curie, born in 1867, was a Polish and naturalised-French physicist and chemist who conducted pioneering research on radioactivity.\n",
    "She was the first woman to win a Nobel Prize, the first person to win a Nobel Prize twice, and the only person to win a Nobel Prize in two scientific fields.\n",
    "Her husband, Pierre Curie, was a co-winner of her first Nobel Prize, making them the first-ever married couple to win the Nobel Prize and launching the Curie family legacy of five Nobel Prizes.\n",
    "She was, in 1906, the first woman to become a professor at the University of Paris.\n",
    "\"\"\"\n",
    "documents = [Document(page_content=text)]\n",
    "graph_documents = llm_transformer.convert_to_graph_documents(documents)\n"
   ]
  },
  {
   "cell_type": "markdown",
   "metadata": {},
   "source": [
    "### Storing graph to Oracle Database\n",
    "From the obtained structured data, we extract information on Oracle Graph's Vertex, Relation, Label, and Property, and create Tables and Graphs within Oracle Database."
   ]
  },
  {
   "cell_type": "code",
   "execution_count": null,
   "metadata": {},
   "outputs": [],
   "source": [
    "graph_name = 'graph_name'\n",
    "oraclegraph.add_graph_documents(graph_documents=graph_documents, graph_name=graph_name)"
   ]
  },
  {
   "cell_type": "markdown",
   "metadata": {},
   "source": [
    "### SQL Query Oracle Graph\n",
    "One of the features of Oracle Graph is that we can query the graph using Property Graph Query Language (PGQL) and SQL. \n",
    "We can query using SQL as follows."
   ]
  },
  {
   "cell_type": "code",
   "execution_count": null,
   "metadata": {},
   "outputs": [],
   "source": [
    "select_query = \"\"\"\n",
    "        SELECT a, b\n",
    "        FROM GRAPH_TABLE(PERSON_GRAPH\n",
    "        MATCH (a is Person) - [e] -> (b is Person)\n",
    "        WHERE e.name = 'FRIEND'\n",
    "        COLUMNS(a.id as a, b.id as b))\n",
    "        \"\"\"\n",
    "sql_results = oraclegraph.sql_execute(query=select_query)\n",
    "print(sql_results)"
   ]
  }
 ],
 "metadata": {
  "kernelspec": {
   "display_name": ".venv",
   "language": "python",
   "name": "python3"
  },
  "language_info": {
   "name": "python",
   "version": "3.11.9"
  }
 },
 "nbformat": 4,
 "nbformat_minor": 2
}
