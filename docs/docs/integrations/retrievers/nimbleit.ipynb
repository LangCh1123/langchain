{
 "cells": [
  {
   "cell_type": "markdown",
   "metadata": {},
   "source": [
    "---\n",
    "sidebar_label: NimbleIt Retriever\n",
    "---"
   ]
  },
  {
   "cell_type": "markdown",
   "metadata": {},
   "source": [
    "### Installation\n",
    "\n",
    "You will need to install the `langchain_community` pacakge:"
   ]
  },
  {
   "cell_type": "code",
   "execution_count": null,
   "metadata": {},
   "outputs": [],
   "source": [
    "%pip install -qU langchain_community"
   ]
  },
  {
   "cell_type": "markdown",
   "metadata": {
    "id": "Hl_Ns9APLeIK"
   },
   "source": [
    "# NimbleIt Retriever"
   ]
  },
  {
   "cell_type": "code",
   "execution_count": null,
   "metadata": {},
   "outputs": [],
   "source": [
    "import getpass\n",
    "import os\n",
    "\n",
    "if \"NIMBLE_API_KEY\" not in os.environ:\n",
    "    os.environ[\"NIMBLE_API_KEY\"] = getpass.getpass(\"Enter your NIMBLE_API_KEY: \")\n",
    "\n",
    "if \"OPENAI_API_KEY\" not in os.environ:\n",
    "    os.environ[\"OPENAI_API_KEY\"] = getpass.getpass(\"Enter your OPENAI_API_KEY: \")"
   ]
  },
  {
   "cell_type": "markdown",
   "metadata": {},
   "source": [
    "### Instantiation\n",
    "Now we can instantiate our retriever, initializing a client and optionally pre-adding data sources urls"
   ]
  },
  {
   "cell_type": "code",
   "execution_count": null,
   "metadata": {},
   "outputs": [],
   "source": [
    "from langchain_community.retrievers.nimbleit import (\n",
    "    NimbleItRetriever,\n",
    ")\n",
    "\n",
    "retriever = NimbleItRetriever(\n",
    "    answerit_url=\"https://answerit.webit.live\",\n",
    "    authorization_token=os.environ[\"NIMBLE_API_KEY\"],\n",
    ")"
   ]
  },
  {
   "cell_type": "code",
   "execution_count": null,
   "metadata": {},
   "outputs": [],
   "source": [
    "print(\"pipeline_id\", retriever.store.pipeline_id)"
   ]
  },
  {
   "cell_type": "markdown",
   "metadata": {},
   "source": [
    "#### Add Sources of Information from URLs"
   ]
  },
  {
   "cell_type": "code",
   "execution_count": null,
   "metadata": {},
   "outputs": [],
   "source": [
    "retriever.add_sources(\n",
    "    [\n",
    "        {\n",
    "            \"url\": \"https://lilianweng.github.io/posts/2023-06-23-agent/\",\n",
    "            \"return_most_relevant_content\": False,\n",
    "            \"depth\": 0,\n",
    "        },\n",
    "        {\n",
    "            \"url\": \"https://en.wikipedia.org/wiki/Pizza\",\n",
    "            \"return_most_relevant_content\": False,\n",
    "            \"depth\": 0,\n",
    "        },\n",
    "    ],\n",
    "    wait=True,\n",
    ")"
   ]
  },
  {
   "cell_type": "markdown",
   "metadata": {},
   "source": [
    "### Use within a chain\n",
    "Initialize ChatOpenAI and define a prompt template\n",
    "\n"
   ]
  },
  {
   "cell_type": "code",
   "execution_count": null,
   "metadata": {},
   "outputs": [],
   "source": [
    "!pip install langchain_openai"
   ]
  },
  {
   "cell_type": "code",
   "execution_count": null,
   "metadata": {},
   "outputs": [],
   "source": [
    "from langchain_core.output_parsers import StrOutputParser\n",
    "from langchain_core.prompts import PromptTemplate\n",
    "from langchain_core.runnables import RunnablePassthrough\n",
    "from langchain_openai import ChatOpenAI\n",
    "\n",
    "llm = ChatOpenAI()\n",
    "\n",
    "PROMPT_TEMPLATE = \"\"\"\n",
    "Human: You are an AI assistant that shall provide a email letter\n",
    "with official formating that\n",
    "concludes the context of the <question> and <answer> with it's <reference>.\n",
    "\n",
    "<question>\n",
    "{question}\n",
    "</question>\n",
    "\n",
    "<answer>\n",
    "{answer}\n",
    "</answer>\n",
    "\n",
    "Assistant:\"\"\"\n",
    "\n",
    "prompt = PromptTemplate(\n",
    "    template=PROMPT_TEMPLATE, input_variables=[\"question\", \"answer\"]\n",
    ")"
   ]
  },
  {
   "cell_type": "markdown",
   "metadata": {},
   "source": [
    "#### Define a function for formatting documents\n",
    "\n"
   ]
  },
  {
   "cell_type": "code",
   "execution_count": null,
   "metadata": {},
   "outputs": [],
   "source": [
    "def format_docs(docs):\n",
    "    r = \"\\n\\n\".join(\n",
    "        [\n",
    "            str(\n",
    "                doc.page_content\n",
    "                + \"\\n\".join(\n",
    "                    [\n",
    "                        f'<reference>\\n {e[\"url\"]} - {e[\"evidence\"]}\\n</reference>'\n",
    "                        for e in doc.metadata[\"evidences\"]\n",
    "                    ]\n",
    "                )\n",
    "            )\n",
    "            for doc in docs\n",
    "            if doc.page_content != \"UNANSWERABLE\"\n",
    "        ]\n",
    "    )\n",
    "    return r"
   ]
  },
  {
   "cell_type": "markdown",
   "metadata": {},
   "source": [
    "#### Define a chain using the retriever and other components"
   ]
  },
  {
   "cell_type": "code",
   "execution_count": null,
   "metadata": {},
   "outputs": [],
   "source": [
    "retriever = NimbleItRetriever(\n",
    "    answerit_url=\"https://answerit.webit.live\",\n",
    "    authorization_token=os.environ[\"NIMBLE_API_KEY\"],\n",
    ")\n",
    "rag_chain = (\n",
    "    {\"question\": RunnablePassthrough(), \"answer\": retriever | format_docs}\n",
    "    | prompt\n",
    "    | llm\n",
    "    | StrOutputParser()\n",
    ")"
   ]
  },
  {
   "cell_type": "markdown",
   "metadata": {},
   "source": [
    "#### Add sources of information"
   ]
  },
  {
   "cell_type": "code",
   "execution_count": null,
   "metadata": {},
   "outputs": [],
   "source": [
    "retriever.add_sources(\n",
    "    [\n",
    "        {\"url\": \"https://en.wikipedia.org/wiki/Lila_(Robinson_novel)\", \"depth\": 0},\n",
    "        {\n",
    "            \"url\": \"https://www.newyorker.com/magazine/2014/10/06/lonesome-road\",\n",
    "            \"depth\": 0,\n",
    "        },\n",
    "    ],\n",
    "    wait=True,\n",
    ")"
   ]
  },
  {
   "cell_type": "markdown",
   "metadata": {},
   "source": [
    "#### Perform a query using the defined chain"
   ]
  },
  {
   "cell_type": "code",
   "execution_count": null,
   "metadata": {},
   "outputs": [],
   "source": [
    "result = rag_chain.invoke(\"What novels has Lila written and what are their contents?\")\n",
    "result"
   ]
  },
  {
   "cell_type": "code",
   "execution_count": null,
   "metadata": {},
   "outputs": [
    {
     "name": "stdout",
     "output_type": "stream",
     "text": [
      "Dear [Recipient],\n",
      "\n",
      "I am writing to provide information regarding the novels written by\n",
      "Marilynne Robinson, particularly focusing on the novel 'Lila' and its\n",
      "contents.\n",
      "\n",
      "Marilynne Robinson has written several novels, including\n",
      "'Housekeeping' (1980), 'Gilead' (2004), 'Home' (2008), 'Lila' (2014),\n",
      "and 'Jack' (2020). 'Lila' is the third installment of the Gilead\n",
      "series and explores the courtship and marriage of Lila and John Ames,\n",
      "as well as delving into Lila's transient past and her complex\n",
      "attachments. The novel addresses themes such as suffering,\n",
      "abandonment, forgiveness, and rescue.\n",
      "\n",
      "For further details, you can refer to the following sources:\n",
      "1. Wikipedia: https://en.wikipedia.org/wiki/Lila_(Robinson_novel) -\n",
      "Lila is a novel written by Marilynne Robinson that was published in\n",
      "2014. Her fourth novel, it is the third installment of the Gilead\n",
      "series.\n",
      "2. The New Yorker:\n",
      "https://www.newyorker.com/magazine/2014/10/06/lonesome-road - In\n",
      "'Lila,' the author explores themes of suffering, abandonment,\n",
      "forgiveness, and rescue.\n",
      "\n",
      "I hope this information is helpful to you. Please feel free to reach\n",
      "out if you have any further questions.\n",
      "\n",
      "Sincerely,\n",
      "[Your Name]\n"
     ]
    }
   ],
   "source": [
    "from textwrap import wrap\n",
    "\n",
    "print(\"\\n\".join(\"\\n\".join(wrap(t, 70)) for t in result.split(\"\\n\")))"
   ]
  }
 ],
 "metadata": {
  "colab": {
   "provenance": []
  },
  "kernelspec": {
   "display_name": "Python 3",
   "name": "python3"
  },
  "language_info": {
   "codemirror_mode": {
    "name": "ipython",
    "version": 3
   },
   "file_extension": ".py",
   "mimetype": "text/x-python",
   "name": "python",
   "nbconvert_exporter": "python",
   "pygments_lexer": "ipython3",
   "version": "3.12.3"
  }
 },
 "nbformat": 4,
 "nbformat_minor": 0
}
