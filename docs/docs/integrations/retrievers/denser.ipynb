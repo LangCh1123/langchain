{
 "cells": [
  {
   "attachments": {},
   "cell_type": "markdown",
   "id": "9fc6205b",
   "metadata": {},
   "source": [
    "# Denser\n",
    "\n",
    "> [DenserRetriever](https://retriever-docs.denser.ai/docs/core) is an open-source RAG framework that allows you to connect your personal data with Large Language Models.\n",
    "\n",
    "This notebook shows how to use [DenserRetriever](https://retriever.denser.ai)."
   ]
  },
  {
   "cell_type": "markdown",
   "id": "65e52785",
   "metadata": {},
   "source": [
    "### Integration details\n",
    "\n",
    "import {ItemTable} from \"@theme/FeatureTables\";"
   ]
  },
  {
   "cell_type": "markdown",
   "id": "94b271a3",
   "metadata": {},
   "source": [
    "## Setup\n",
    "\n",
    "If you haven't already, sign up for [DenserRetriever](https://retriever.denser.ai), create a retriever, and upload your data. Once done, obtain the API endpoint URL for your retriever and ensure you have the [API key](https://retriever-docs.denser.ai/docs/api).\n",
    "\n",
    "If you want to get automated tracing from individual queries, you can also set your LangSmith API key by uncommenting below:"
   ]
  },
  {
   "cell_type": "markdown",
   "id": "ab348eb0",
   "metadata": {},
   "source": [
    "```python\n",
    "# os.environ[\"LANGSMITH_API_KEY\"] = getpass.getpass(\"Enter your LangSmith API key: \")\n",
    "# os.environ[\"LANGSMITH_TRACING\"] = \"true\"\n",
    "```"
   ]
  },
  {
   "cell_type": "markdown",
   "id": "a8f93ab4",
   "metadata": {},
   "source": [
    "### Installation"
   ]
  },
  {
   "cell_type": "code",
   "execution_count": null,
   "id": "c0c46e6a",
   "metadata": {},
   "outputs": [],
   "source": [
    "pip install langchain-community"
   ]
  },
  {
   "cell_type": "markdown",
   "id": "c44044fb",
   "metadata": {},
   "source": [
    "## Instantiate"
   ]
  },
  {
   "cell_type": "code",
   "execution_count": null,
   "id": "74a4bd52",
   "metadata": {},
   "outputs": [],
   "source": [
    "from langchain_community.retrievers import DenserRetriever\n",
    "\n",
    "retriever = DenserRetriever(\n",
    "    api_url=\"https://retriever.denser.ai/api/retrievers/retrieve\",\n",
    "    retriever_id=\"DENSER_RETRIEVER_ID\",\n",
    "    api_key=\"DENSER_RETRIEVER_API_KEY\",\n",
    "    # top_k=10 # optional\n",
    ")"
   ]
  },
  {
   "attachments": {},
   "cell_type": "markdown",
   "id": "944e172b",
   "metadata": {},
   "source": [
    "## Usage\n",
    "\n",
    "Once your retriever index is set up, you can start querying it."
   ]
  },
  {
   "cell_type": "code",
   "execution_count": null,
   "id": "20ae1a74",
   "metadata": {},
   "outputs": [],
   "source": [
    "retriever.invoke(\"What is DenserRetriever?\")"
   ]
  },
  {
   "cell_type": "markdown",
   "metadata": {},
   "source": [
    "## Use within a chain\n",
    "\n",
    "Initialize ChatOpenAI and define a prompt template."
   ]
  },
  {
   "cell_type": "code",
   "execution_count": null,
   "id": "543e9c3a",
   "metadata": {},
   "outputs": [],
   "source": [
    "from langchain_core.output_parsers import StrOutputParser\n",
    "from langchain_core.prompts import ChatPromptTemplate\n",
    "from langchain_core.runnables import RunnablePassthrough\n",
    "from langchain_openai import ChatOpenAI\n",
    "\n",
    "llm = ChatOpenAI()\n",
    "\n",
    "prompt = ChatPromptTemplate.from_template(\"\"\"\n",
    "You are an expert at answering questions about DenserRetriever. Provide answers based on the context provided.\n",
    "\n",
    "<context>\n",
    "{context}\n",
    "</context>\n",
    "\n",
    "<question>\n",
    "Question: {question}\n",
    "</question>\n",
    "\"\"\")\n",
    "\n",
    "llm = ChatOpenAI()\n",
    "\n",
    "\n",
    "def format_docs(docs):\n",
    "    return \"\\n\".join([doc.page_content for doc in docs])\n",
    "\n",
    "\n",
    "chain = (\n",
    "    {\"context\": retriever | format_docs, \"question\": RunnablePassthrough()}\n",
    "    | prompt\n",
    "    | llm\n",
    "    | StrOutputParser()\n",
    ")"
   ]
  },
  {
   "cell_type": "code",
   "execution_count": null,
   "id": "b795714d",
   "metadata": {},
   "outputs": [],
   "source": [
    "chain.invoke(\"What is DenserRetriever?\")"
   ]
  },
  {
   "cell_type": "markdown",
   "id": "3357fff1",
   "metadata": {},
   "source": [
    "## API reference\n",
    "\n",
    "For more information on the DenserRetriever, refer to the [DenserRetriever documentation](https://retriever-docs.denser.ai/docs/core)."
   ]
  }
 ],
 "metadata": {
  "kernelspec": {
   "display_name": "Python 3 (ipykernel)",
   "language": "python",
   "name": "python3"
  },
  "language_info": {
   "codemirror_mode": {
    "name": "ipython",
    "version": 3
   },
   "file_extension": ".py",
   "mimetype": "text/x-python",
   "name": "python",
   "nbconvert_exporter": "python",
   "pygments_lexer": "ipython3",
   "version": "3.10.14"
  }
 },
 "nbformat": 4,
 "nbformat_minor": 5
}
