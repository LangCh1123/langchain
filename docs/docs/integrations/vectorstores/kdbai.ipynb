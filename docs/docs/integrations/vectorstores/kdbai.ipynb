{
 "cells": [
  {
   "cell_type": "markdown",
   "id": "08b3f3a3-7542-4d39-a9a1-f66e50ec3c0f",
   "metadata": {},
   "source": [
    "# KDB.AI\n",
    "\n",
    "> [KDB.AI](https://kdb.ai/) is a powerful knowledge-based vector database and search engine that allows you to build scalable, reliable AI applications, using real-time data, by providing advanced search, recommendation and personalization.\n",
    "\n",
    "[This example](https://github.com/KxSystems/kdbai-samples/blob/main/document_search/document_search.ipynb) demonstrates how to use KDB.AI to run semantic search on unstructured text documents.\n",
    "\n",
    "To access your end point and API keys, [sign up to KDB.AI here](https://kdb.ai/get-started/).\n",
    "\n",
    "To set up your development environment, follow the instructions on the [KDB.AI pre-requisites page](https://code.kx.com/kdbai/pre-requisites.html).\n",
    "\n",
    "The following examples demonstrate some of the ways you can interact with KDB.AI through LangChain.\n",
    "\n",
    "You'll need to install `langchain-community` with `pip install -qU langchain-community` to use this integration\n",
    "\n",
    "## Import required packages"
   ]
  },
  {
   "cell_type": "code",
   "execution_count": 1,
   "id": "2704194d-c42d-463d-b162-fb95262e052c",
   "metadata": {},
   "outputs": [],
   "source": [
    "import os\n",
    "import time\n",
    "from getpass import getpass\n",
    "\n",
    "import kdbai_client as kdbai\n",
    "import pandas as pd\n",
    "import requests\n",
    "from langchain.chains import RetrievalQA\n",
    "from langchain_community.document_loaders import PyPDFLoader\n",
    "from langchain_community.vectorstores import KDBAI\n",
    "from langchain_openai import ChatOpenAI, OpenAIEmbeddings"
   ]
  },
  {
   "cell_type": "code",
   "execution_count": 2,
   "id": "04848fcf-e128-4d63-af6c-b3991531d62e",
   "metadata": {},
   "outputs": [],
   "source": [
    "KDBAI_ENDPOINT = (\n",
    "    os.environ[\"KDBAI_ENDPOINT\"]\n",
    "    if \"KDBAI_ENDPOINT\" in os.environ\n",
    "    else input(\"KDB.AI endpoint: \")\n",
    ")\n",
    "KDBAI_API_KEY = (\n",
    "    os.environ[\"KDBAI_API_KEY\"]\n",
    "    if \"KDBAI_API_KEY\" in os.environ\n",
    "    else getpass(\"KDB.AI API key: \")\n",
    ")\n",
    "\n",
    "# OpenAI API Key: https://platform.openai.com/api\n",
    "os.environ[\"OPENAI_API_KEY\"] = (\n",
    "    os.environ[\"OPENAI_API_KEY\"]\n",
    "    if \"OPENAI_API_KEY\" in os.environ\n",
    "    else getpass(\"OpenAI API Key: \")\n",
    ")\n"
   ]
  },
  {
   "cell_type": "code",
   "execution_count": 3,
   "id": "d08a1468-6bff-4a65-8b4a-9835cfa997ad",
   "metadata": {},
   "outputs": [],
   "source": [
    "TEMP = 0.0\n",
    "K = 3"
   ]
  },
  {
   "cell_type": "markdown",
   "id": "63a111d8-2422-4d33-85c0-bc95d25e330a",
   "metadata": {},
   "source": [
    "## Create a KBD.AI Session"
   ]
  },
  {
   "cell_type": "code",
   "execution_count": null,
   "id": "9ffe4fee-2dc3-4943-917b-28adc3a69472",
   "metadata": {},
   "outputs": [
    {
     "name": "stdout",
     "output_type": "stream",
     "text": [
      "Create a KDB.AI session...\n"
     ]
    }
   ],
   "source": [
    "print(\"Create a KDB.AI session...\")\n",
    "session = kdbai.Session(endpoint=KDBAI_ENDPOINT, api_key=KDBAI_API_KEY)"
   ]
  },
  {
   "cell_type": "markdown",
   "id": "a2ea7e87-f65c-43d9-bc67-be7bda86def2",
   "metadata": {},
   "source": [
    "## Create a table"
   ]
  },
  {
   "cell_type": "code",
   "execution_count": 13,
   "id": "da27f31c-890e-46c0-8e01-1b8474ee3a70",
   "metadata": {},
   "outputs": [
    {
     "name": "stdout",
     "output_type": "stream",
     "text": [
      "Create table \"documents\"...\n"
     ]
    }
   ],
   "source": [
    "print('Create table \"documents\"...')\n",
    "\n",
    "# Set up the schema and indexes for KDB.AI table, specifying embeddings column with 384 dimensions, Euclidean Distance, and flat index\n",
    "schema = [\n",
    "    {\"name\": \"id\", \"type\": \"str\"},\n",
    "    {\"name\": \"text\", \"type\": \"bytes\"},\n",
    "    {\"name\": \"embeddings\", \"type\": \"float32s\"},\n",
    "    {\"name\": \"tag\", \"type\": \"str\"},\n",
    "    {\"name\": \"title\", \"type\": \"bytes\"}\n",
    "]\n",
    "\n",
    "indexes = [\n",
    "    {\n",
    "        \"name\": \"vectorIndex\",\n",
    "        \"type\": \"hnsw\",\n",
    "        \"column\": \"embeddings\",\n",
    "        \"params\": {\"dims\": 1536, \"metric\": \"L2\"},\n",
    "    }\n",
    "]\n"
   ]
  },
  {
   "cell_type": "code",
   "execution_count": 14,
   "id": "ce00e23d",
   "metadata": {},
   "outputs": [],
   "source": [
    "# get the database connection. Default database name is 'default'\n",
    "db = session.database('default')\n",
    "\n",
    "# First ensure the table does not already exist\n",
    "try:\n",
    "    db.table(\"documents\").drop()\n",
    "except kdbai.KDBAIException:\n",
    "    pass\n",
    "\n",
    "table = db.create_table(\"documents\", schema=schema, indexes=indexes)"
   ]
  },
  {
   "cell_type": "code",
   "execution_count": 9,
   "id": "930ba64a-1cf9-4892-9335-8745c830497c",
   "metadata": {},
   "outputs": [
    {
     "name": "stdout",
     "output_type": "stream",
     "text": [
      "CPU times: user 14.8 ms, sys: 0 ns, total: 14.8 ms\n",
      "Wall time: 395 ms\n"
     ]
    },
    {
     "data": {
      "text/plain": [
       "562978"
      ]
     },
     "execution_count": 9,
     "metadata": {},
     "output_type": "execute_result"
    }
   ],
   "source": [
    "%%time\n",
    "URL = \"https://www.conseil-constitutionnel.fr/node/3850/pdf\"\n",
    "PDF = \"Déclaration_des_droits_de_l_homme_et_du_citoyen.pdf\"\n",
    "open(PDF, \"wb\").write(requests.get(URL).content)"
   ]
  },
  {
   "cell_type": "markdown",
   "id": "0f7da153-e7d4-4a4c-b044-ad7b4d893c7f",
   "metadata": {},
   "source": [
    "## Read a PDF"
   ]
  },
  {
   "cell_type": "code",
   "execution_count": 10,
   "id": "00873e6b-f204-4dca-b82b-1c45d0b83ee5",
   "metadata": {},
   "outputs": [
    {
     "name": "stdout",
     "output_type": "stream",
     "text": [
      "Read a PDF...\n",
      "CPU times: user 316 ms, sys: 11.5 ms, total: 328 ms\n",
      "Wall time: 347 ms\n"
     ]
    },
    {
     "data": {
      "text/plain": [
       "3"
      ]
     },
     "execution_count": 10,
     "metadata": {},
     "output_type": "execute_result"
    }
   ],
   "source": [
    "%%time\n",
    "print(\"Read a PDF...\")\n",
    "loader = PyPDFLoader(PDF)\n",
    "pages = loader.load_and_split()\n",
    "len(pages)"
   ]
  },
  {
   "cell_type": "markdown",
   "id": "3536c7db-0db7-446a-b61e-149fd3c2d1d8",
   "metadata": {},
   "source": [
    "## Create a Vector Database from PDF Text"
   ]
  },
  {
   "cell_type": "code",
   "execution_count": 15,
   "id": "b06d4a96-c3d5-426b-9e22-12925b14e5e6",
   "metadata": {},
   "outputs": [
    {
     "name": "stdout",
     "output_type": "stream",
     "text": [
      "Create a Vector Database from PDF text...\n",
      "CPU times: user 60.8 ms, sys: 161 μs, total: 61 ms\n",
      "Wall time: 1.28 s\n"
     ]
    },
    {
     "data": {
      "text/plain": [
       "['bc33c2cd-39bf-40a1-b732-b07a4ef41ee9',\n",
       " 'ca0fd77c-1473-4a0e-a853-c75184bfbd9d',\n",
       " 'b18dc68d-965f-4b96-a4ba-b449caf21141']"
      ]
     },
     "execution_count": 15,
     "metadata": {},
     "output_type": "execute_result"
    }
   ],
   "source": [
    "%%time\n",
    "print(\"Create a Vector Database from PDF text...\")\n",
    "embeddings = OpenAIEmbeddings(model=\"text-embedding-ada-002\")\n",
    "texts = [p.page_content for p in pages]\n",
    "metadata = pd.DataFrame(index=list(range(len(texts))))\n",
    "metadata[\"tag\"] = \"law\"\n",
    "metadata[\"title\"] = \"Déclaration des Droits de l'Homme et du Citoyen de 1789\".encode(\n",
    "    \"utf-8\"\n",
    ")\n",
    "vectordb = KDBAI(table, embeddings)\n",
    "vectordb.add_texts(texts=texts, metadatas=metadata)"
   ]
  },
  {
   "cell_type": "markdown",
   "id": "3b658f9a-61dd-4a88-9bcb-4651992f610d",
   "metadata": {},
   "source": [
    "## Create LangChain Pipeline"
   ]
  },
  {
   "cell_type": "code",
   "execution_count": 18,
   "id": "6d848577-1192-4bb0-b721-37f52be5d9d0",
   "metadata": {},
   "outputs": [
    {
     "name": "stdout",
     "output_type": "stream",
     "text": [
      "Create LangChain Pipeline...\n",
      "CPU times: user 70.3 ms, sys: 0 ns, total: 70.3 ms\n",
      "Wall time: 68.3 ms\n"
     ]
    }
   ],
   "source": [
    "%%time\n",
    "print(\"Create LangChain Pipeline...\")\n",
    "qabot = RetrievalQA.from_chain_type(\n",
    "    chain_type=\"stuff\",\n",
    "    llm=ChatOpenAI(model=\"gpt-3.5-turbo-16k\", temperature=TEMP),\n",
    "    retriever=vectordb.as_retriever(search_kwargs=dict(index='vectorIndex', k=K)),\n",
    "    return_source_documents=True,\n",
    ")"
   ]
  },
  {
   "cell_type": "markdown",
   "id": "21113a5e-d72d-4a44-9714-6b23ec95b755",
   "metadata": {},
   "source": [
    "## Summarize the document in English"
   ]
  },
  {
   "cell_type": "code",
   "execution_count": 19,
   "id": "81668f8f-a416-4b58-93d2-8e0924ceca23",
   "metadata": {},
   "outputs": [
    {
     "name": "stdout",
     "output_type": "stream",
     "text": [
      "\n",
      "\n",
      "Summarize the document in English:\n",
      "\n",
      "The document is the Declaration of the Rights of Man and of the Citizen of 1789. It was written by the representatives of the French people and aims to declare the natural, inalienable, and sacred rights of every individual. These rights include freedom, property, security, and resistance to oppression. The document emphasizes the importance of equality and the principle that sovereignty resides in the nation. It also highlights the role of law in protecting individual rights and ensuring the common good. The document asserts the right to freedom of thought, expression, and religion, as long as it does not disturb public order. It emphasizes the need for a public force to guarantee the rights of all citizens and the responsibility of public officials to be accountable to society. The document recognizes the right to private property, but also states that it can be taken away for the public good, with fair compensation. Overall, the document establishes the fundamental rights and principles that should guide the government and protect the well-being of all citizens.\n",
      "CPU times: user 34.7 ms, sys: 9.12 ms, total: 43.9 ms\n",
      "Wall time: 2.61 s\n"
     ]
    }
   ],
   "source": [
    "%%time\n",
    "Q = \"Summarize the document in English:\"\n",
    "print(f\"\\n\\n{Q}\\n\")\n",
    "print(qabot.invoke(dict(query=Q))[\"result\"])"
   ]
  },
  {
   "cell_type": "markdown",
   "id": "9ce7667e-8c89-466c-8040-9ba62f3e57ec",
   "metadata": {},
   "source": [
    "## Query the Data"
   ]
  },
  {
   "cell_type": "code",
   "execution_count": 20,
   "id": "e02a7acb-99ac-48f8-b93c-d95a8f9e87d4",
   "metadata": {},
   "outputs": [
    {
     "name": "stdout",
     "output_type": "stream",
     "text": [
      "\n",
      "\n",
      "Is it a fair law and why ?\n",
      "\n",
      "As an AI language model, I don't have personal opinions. However, I can provide some analysis based on the given context. The text provided is an excerpt from the Declaration of the Rights of Man and of the Citizen of 1789, which is considered a foundational document in the history of human rights. It outlines the natural and inalienable rights of individuals, such as freedom, property, and resistance to oppression. \n",
      "\n",
      "Whether or not this law is considered fair is subjective and can vary depending on individual perspectives and societal norms. However, many people view the principles outlined in this declaration as fundamental to the concept of fairness and justice. It emphasizes the equality of all individuals, the importance of protecting individual rights, and the need for a just and accountable government. \n",
      "\n",
      "It is worth noting that this declaration was written in a specific historical and cultural context, and interpretations of fairness may differ across time and societies.\n",
      "CPU times: user 28.4 ms, sys: 0 ns, total: 28.4 ms\n",
      "Wall time: 2.51 s\n"
     ]
    }
   ],
   "source": [
    "%%time\n",
    "Q = \"Is it a fair law and why ?\"\n",
    "print(f\"\\n\\n{Q}\\n\")\n",
    "print(qabot.invoke(dict(query=Q))[\"result\"])"
   ]
  },
  {
   "cell_type": "code",
   "execution_count": 21,
   "id": "24dc85bd-cd35-4fb3-9d01-e00a896fd9a1",
   "metadata": {},
   "outputs": [
    {
     "name": "stdout",
     "output_type": "stream",
     "text": [
      "\n",
      "\n",
      "What are the rights and duties of the man, the citizen and the society ?\n",
      "\n",
      "According to the Declaration of the Rights of Man and of the Citizen of 1789, the rights and duties of man, citizen, and society are as follows:\n",
      "\n",
      "Rights of Man:\n",
      "1. Men are born and remain free and equal in rights. Social distinctions can only be based on common utility.\n",
      "2. The purpose of political association is to protect the natural and imprescriptible rights of man, which include liberty, property, security, and resistance to oppression.\n",
      "3. Sovereignty resides essentially in the nation. No body or individual can exercise authority that does not emanate expressly from the nation.\n",
      "4. Freedom consists of being able to do anything that does not harm others. The exercise of natural rights of each man has no limits other than those that ensure the enjoyment of these same rights by other members of society. These limits can only be determined by law.\n",
      "5. The law has the right to prohibit only actions harmful to society. Anything not prohibited by law cannot be prevented, and no one can be compelled to do what it does not command.\n",
      "6. The law is the expression of the general will. All citizens have the right to personally participate, or through their representatives, in its formation. It must be the same for all, whether it protects or punishes. All citizens are equal in its eyes and are equally eligible to all public positions, according to their capacity, and without any other distinction than that of their virtues and talents.\n",
      "7. No man can be accused, arrested, or detained except in cases determined by law and according to the forms it has prescribed. Those who solicit, expedite, execute, or cause to be executed arbitrary orders must be punished. But any citizen called or seized in virtue of the law must obey instantly; he makes himself guilty by resistance.\n",
      "8. The law can only establish punishments that are strictly and obviously necessary, and no one can be punished except in virtue of a law established and promulgated prior to the offense, and legally applied.\n",
      "9. Every man is presumed innocent until declared guilty. If it is deemed necessary to arrest him, any severity that is not necessary to ensure his person must be severely punished by law.\n",
      "10. No one should be disturbed for his opinions, even religious ones, provided that their manifestation does not disturb the established public order.\n",
      "11. The free communication of thoughts and opinions is one of the most precious rights of man. Every citizen can therefore speak, write, and print freely, except to answer for the abuse of this freedom in cases determined by law.\n",
      "12. The guarantee of the rights of man and of the citizen requires a public force. This force is therefore instituted for the advantage of all and not for the particular utility of those to whom it is entrusted.\n",
      "13. For the maintenance of the public force and for the expenses of administration, a common contribution is necessary. It must be equally distributed among all citizens according to their means.\n",
      "14. All citizens have the right to ascertain, by themselves or through their representatives, the necessity of the public contribution, to consent to it freely, to follow its use, and to determine its amount, basis, collection, and duration.\n",
      "15. Society has the right to demand accountability from any public agent for his administration.\n",
      "16. Any society in which the guarantee of rights is not assured, nor the separation of powers determined, has no constitution.\n",
      "17. Property being an inviolable and sacred right, no one can be deprived of it, except when public necessity, legally determined, obviously requires it, and under the condition of a just and prior indemnity.\n",
      "\n",
      "Duties of the Citizen:\n",
      "The Declaration does not explicitly mention the duties of the citizen, but it emphasizes the importance of the law and the need for citizens to obey it. It also highlights the responsibility of citizens to participate in the formation of the law and to hold public agents accountable for their administration.\n",
      "\n",
      "Duties of Society:\n",
      "The Declaration does not explicitly mention the duties of society, but it emphasizes the importance of protecting the rights of man and of the citizen. Society has the duty to ensure the guarantee of these rights and to demand accountability from public agents for their administration.\n",
      "CPU times: user 33.5 ms, sys: 0 ns, total: 33.5 ms\n",
      "Wall time: 9.88 s\n"
     ]
    }
   ],
   "source": [
    "%%time\n",
    "Q = \"What are the rights and duties of the man, the citizen and the society ?\"\n",
    "print(f\"\\n\\n{Q}\\n\")\n",
    "print(qabot.invoke(dict(query=Q))[\"result\"])"
   ]
  },
  {
   "cell_type": "code",
   "execution_count": 22,
   "id": "d55b7980-a3d3-45d7-a310-99492edb098b",
   "metadata": {},
   "outputs": [
    {
     "name": "stdout",
     "output_type": "stream",
     "text": [
      "\n",
      "\n",
      "Is this law practical ?\n",
      "\n",
      "As an AI language model, I cannot provide personal opinions or subjective judgments on whether a law is practical or not. The provided text consists of articles from the French Declaration of the Rights of Man and of the Citizen of 1789, which is a fundamental document outlining the rights and principles of the French legal system. The practicality of a law is often a matter of interpretation and can vary depending on the context and specific circumstances. It is up to legal experts, lawmakers, and society as a whole to assess the practicality and effectiveness of a law.\n",
      "CPU times: user 36 ms, sys: 0 ns, total: 36 ms\n",
      "Wall time: 2.04 s\n"
     ]
    }
   ],
   "source": [
    "%%time\n",
    "Q = \"Is this law practical ?\"\n",
    "print(f\"\\n\\n{Q}\\n\")\n",
    "print(qabot.invoke(dict(query=Q))[\"result\"])"
   ]
  },
  {
   "cell_type": "markdown",
   "id": "5f9d0a3c-4941-4f65-b6b8-aefe4f6abd14",
   "metadata": {},
   "source": [
    "## Clean up the Documents table"
   ]
  },
  {
   "cell_type": "code",
   "execution_count": 23,
   "id": "cdddda29-e28d-423f-b1c6-f77d39acc3dd",
   "metadata": {},
   "outputs": [],
   "source": [
    "# Clean up KDB.AI \"documents\" table and index for similarity search\n",
    "# so this notebook could be played again and again\n",
    "db.table(\"documents\").drop()"
   ]
  }
 ],
 "metadata": {
  "kernelspec": {
   "display_name": "Python 3 (ipykernel)",
   "language": "python",
   "name": "python3"
  },
  "language_info": {
   "codemirror_mode": {
    "name": "ipython",
    "version": 3
   },
   "file_extension": ".py",
   "mimetype": "text/x-python",
   "name": "python",
   "nbconvert_exporter": "python",
   "pygments_lexer": "ipython3",
   "version": "3.10.14"
  }
 },
 "nbformat": 4,
 "nbformat_minor": 5
}
