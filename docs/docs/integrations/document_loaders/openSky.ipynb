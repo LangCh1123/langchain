{
 "cells": [
  {
   "cell_type": "markdown",
   "metadata": {},
   "source": [
    "# OpenSky Network\n",
    "\n",
    "This loader fetches flight data from the OpenSky Network API using the OpenSkyAPIWrapper. You must initialize the loader with your API wrapper and specify the mode of flight data along with the necessary parameters for the data mode chosen."
   ]
  },
  {
   "cell_type": "markdown",
   "metadata": {},
   "source": [
    "# Using the Tool"
   ]
  },
  {
   "cell_type": "code",
   "execution_count": null,
   "metadata": {
    "vscode": {
     "languageId": "plaintext"
    }
   },
   "outputs": [],
   "source": [
    "%pip install --upgrade --quiet  langchain-community"
   ]
  },
  {
   "cell_type": "code",
   "execution_count": null,
   "metadata": {
    "vscode": {
     "languageId": "plaintext"
    }
   },
   "outputs": [],
   "source": [
    "from langchain_community.document_loaders import OpenSkyLoader\n",
    "from langchain_community.utilities import OpenSkyAPIWrapper"
   ]
  },
  {
   "cell_type": "markdown",
   "metadata": {},
   "source": [
    "## Modes"
   ]
  },
  {
   "cell_type": "markdown",
   "metadata": {},
   "source": [
    "### All States Vector"
   ]
  },
  {
   "cell_type": "code",
   "execution_count": null,
   "metadata": {
    "vscode": {
     "languageId": "plaintext"
    }
   },
   "outputs": [],
   "source": [
    "all_states_loader = OpenSkyLoader(\n",
    "    api_wrapper=OpenSkyAPIWrapper(),\n",
    "     mode=\"all_states\"\n",
    ")\n",
    "all_states_data = list(all_states_loader.lazy_load())\n",
    "print(\"All State Vectors:\")\n",
    "for doc in all_states_data:\n",
    "    print(doc.page_content, doc.metadata)"
   ]
  },
  {
   "cell_type": "markdown",
   "metadata": {},
   "source": [
    "### Flights in Time Interval"
   ]
  },
  {
   "cell_type": "code",
   "execution_count": null,
   "metadata": {
    "vscode": {
     "languageId": "plaintext"
    }
   },
   "outputs": [],
   "source": [
    "current_time = int(time.time())\n",
    "one_hour_ago = current_time - 600 \n",
    "\n",
    "interval_loader = OpenSkyLoader(\n",
    "    api_wrapper=OpenSkyAPIWrapper(),\n",
    "    mode=\"by_interval\",\n",
    "    params={\"begin\": one_hour_ago, \"end\": current_time},\n",
    ")\n",
    "interval_data = list(interval_loader.lazy_load())\n",
    "print(\"Flights in the Last Hour:\")\n",
    "for doc in interval_data:\n",
    "    print(doc.page_content, doc.metadata) "
   ]
  },
  {
   "cell_type": "markdown",
   "metadata": {},
   "source": [
    "### Flights by Aircraft"
   ]
  },
  {
   "cell_type": "code",
   "execution_count": null,
   "metadata": {
    "vscode": {
     "languageId": "plaintext"
    }
   },
   "outputs": [],
   "source": [
    "icao24_code = \"3c675a\"\n",
    "current_time = int(time.time())\n",
    "one_day_ago = current_time - 6000 * 24\n",
    "\n",
    "by_aircraft_loader = OpenSkyLoader(\n",
    "    api_wrapper=OpenSkyAPIWrapper(),\n",
    "    mode=\"by_aircraft\",\n",
    "    params={\"icao24\": icao24_code, \"begin\": one_day_ago, \"end\": current_time},\n",
    ")\n",
    "by_aircraft_data = list(by_aircraft_loader.lazy_load())\n",
    "print(\"Flights by Aircraft (D-AIZZ) in the Last Day:\")\n",
    "for doc in by_aircraft_data:\n",
    "    print(doc.page_content, doc.metadata)"
   ]
  },
  {
   "cell_type": "markdown",
   "metadata": {},
   "source": [
    "### Arrivals by Airport"
   ]
  },
  {
   "cell_type": "code",
   "execution_count": null,
   "metadata": {
    "vscode": {
     "languageId": "plaintext"
    }
   },
   "outputs": [],
   "source": [
    "airport_code = \"EDDF\"\n",
    "current_time = int(time.time())\n",
    "one_day_ago = current_time - 6000 * 24\n",
    "\n",
    "arrivals_loader = OpenSkyLoader(\n",
    "    api_wrapper=OpenSkyAPIWrapper(),\n",
    "    mode=\"arrivals\",\n",
    "    params={\"airport\": airport_code, \"begin\": one_day_ago, \"end\": current_time},\n",
    ")\n",
    "arrivals_data = list(arrivals_loader.lazy_load())\n",
    "print(\"Arrivals by Airport (EDDF) in the Last Day:\")\n",
    "for doc in arrivals_data:\n",
    "    print(doc.page_content, doc.metadata)"
   ]
  },
  {
   "cell_type": "markdown",
   "metadata": {},
   "source": [
    "### Departures by Airport"
   ]
  },
  {
   "cell_type": "code",
   "execution_count": null,
   "metadata": {
    "vscode": {
     "languageId": "plaintext"
    }
   },
   "outputs": [],
   "source": [
    "airport_code = \"EDDF\"\n",
    "current_time = int(time.time())\n",
    "one_day_ago = current_time - 6000 * 24\n",
    "\n",
    "departures_loader = OpenSkyLoader(\n",
    "    api_wrapper=OpenSkyAPIWrapper(),\n",
    "    mode=\"departures\",\n",
    "    params={\"airport\": airport_code, \"begin\": one_day_ago, \"end\": current_time},\n",
    ")\n",
    "departures_data = list(departures_loader.lazy_load())\n",
    "print(\"Departures by Airport (EDDF) in the Last Day:\")\n",
    "for doc in departures_data:\n",
    "    print(doc.page_content, doc.metadata)"
   ]
  }
 ],
 "metadata": {
  "language_info": {
   "name": "python"
  }
 },
 "nbformat": 4,
 "nbformat_minor": 2
}
