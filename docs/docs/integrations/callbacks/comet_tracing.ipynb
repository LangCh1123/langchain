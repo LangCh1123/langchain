{
 "cells": [
  {
   "cell_type": "markdown",
   "id": "5371a9bb",
   "metadata": {},
   "source": [
    "# Comet Opik\n",
    "\n",
    "Opik is an open source end-to-end [LLM Evaluation Platform](https://www.comet.com/site/products/opik/?utm_source=langchain&utm_medium=docs&utm_content=callback_intro_paragraph&utm_campaign=opik) that helps developers track their LLM prompts and responses during both development and production. Users can define and run evaluations to test their LLMs apps before deployment to check for hallucinations, accuracy, context retrevial, and more!"
   ]
  },
  {
   "cell_type": "markdown",
   "id": "c8a80eae",
   "metadata": {},
   "source": [
    "<img src=\"https://raw.githubusercontent.com/comet-ml/opik/refs/heads/main/apps/opik-documentation/documentation/static/img/opik-logo.svg\" width=200 />"
   ]
  },
  {
   "cell_type": "markdown",
   "id": "b8642631",
   "metadata": {},
   "source": [
    "Check out the colab to see an end to end example on how you can leverage [Opik](https://www.comet.com/site/products/opik/?utm_source=langchain&utm_medium=docs&utm_content=second_paragraph&utm_campaign=opik) to track and evaluate your LLM Applications you are building with Langchain!\n",
    "\n",
    "<a target=\"_blank\" href=\"https://colab.research.google.com/github/comet-ml/opik/blob/main/apps/opik-documentation/documentation/docs/cookbook/langchain.ipynb\">\n",
    "  <img src=\"https://colab.research.google.com/assets/colab-badge.svg\" alt=\"Open In Colab\"/>\n",
    "</a>\n"
   ]
  },
  {
   "cell_type": "markdown",
   "id": "60bde0a8",
   "metadata": {},
   "source": [
    "## Install and Configure Opik"
   ]
  },
  {
   "cell_type": "code",
   "execution_count": null,
   "id": "6faf32d5",
   "metadata": {},
   "outputs": [],
   "source": [
    "%pip install opik langchain langchain_openai --quiet"
   ]
  },
  {
   "cell_type": "markdown",
   "id": "6feb2356",
   "metadata": {},
   "source": [
    "Configuring Opik to work on your local server address or log data to our hosted version with your [Opik API Key](https://www.comet.com/signup?from=llm&utm_source=langchain&utm_medium=docs&utm_content=api_key&utm_campaign=opik)"
   ]
  },
  {
   "cell_type": "code",
   "execution_count": null,
   "id": "62105f05",
   "metadata": {},
   "outputs": [],
   "source": [
       "import opik \n",
       "opik.configure(use_local=False) \n"
   ]
  },
  {
   "cell_type": "markdown",
   "id": "316d8c8c",
   "metadata": {},
   "source": [
    "## Using OpikTracer\n",
    "\n",
    "Here is a basic example of how to use the `OpikTracer` callback with a LangChain chain"
   ]
  },
  {
   "cell_type": "code",
   "execution_count": null,
   "id": "17c04cc6-c93d-4b6c-a033-e897577f4ed1",
   "metadata": {
    "ExecuteTime": {
     "end_time": "2023-05-18T12:47:46.580776Z",
     "start_time": "2023-05-18T12:47:46.577833Z"
    },
    "tags": []
   },
   "outputs": [],
   "source": [
    "from langchain.chains import LLMChain\n",
    "from langchain_openai import OpenAI\n",
    "from langchain.prompts import PromptTemplate\n",
    "from opik.integrations.langchain import OpikTracer\n",
    "\n",
    "# Initialize the tracer\n",
    "opik_tracer = OpikTracer()\n",
    "\n",
    "# Create the LLM Chain using LangChain\n",
    "llm = OpenAI(temperature=0)\n",
    "\n",
    "prompt_template = PromptTemplate(\n",
    "    input_variables=[\"input\"],\n",
    "    template=\"Translate the following text to French: {input}\"\n",
    ")\n",
    "\n",
    "llm_chain = LLMChain(llm=llm, prompt=prompt_template)\n",
    "\n",
    "# Generate the translations\n",
    "translation = llm_chain.run(\"Hello, how are you?\", callbacks=[opik_tracer])\n",
    "print(translation)"
   ]
  },
  {
   "cell_type": "markdown",
   "id": "4894375c",
   "metadata": {},
   "source": [
    "The  `OpikTracer` will automatically log the input prompt, the output, and any metadata for each step in the chain\n",
    "\n",
    "\n",
    "![opik_langchain](docs/static/img/opik_tracking.png)"
   ]
  }
 ],
 "metadata": {
  "kernelspec": {
   "display_name": "Python 3.12.5 64-bit",
   "language": "python",
   "name": "python3"
  },
  "language_info": {
   "codemirror_mode": {
    "name": "ipython",
    "version": 3
   },
   "file_extension": ".py",
   "mimetype": "text/x-python",
   "name": "python",
   "nbconvert_exporter": "python",
   "pygments_lexer": "ipython3",
   "version": "3.12.5"
  },
  "vscode": {
   "interpreter": {
    "hash": "b0fa6594d8f4cbf19f97940f81e996739fb7646882a419484c72d19e05852a7e"
   }
  }
 },
 "nbformat": 4,
 "nbformat_minor": 5
}
